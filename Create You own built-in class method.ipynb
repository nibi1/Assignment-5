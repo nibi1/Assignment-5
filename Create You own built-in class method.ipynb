{
 "cells": [
  {
   "cell_type": "markdown",
   "id": "d4ca86ac",
   "metadata": {},
   "source": [
    "##### `Write a Python class to implement pow(x, n)`\n",
    "\n",
    "\n",
    "\n",
    "Explanation:\n",
    "\n",
    "Use should be able to find the nth power of the x.(i.e x*x*x*x...n times)\n",
    "\n",
    "You must implement it using Class\n",
    "\n",
    "\n",
    "\n",
    "Sample Input:\n",
    "\n",
    "x: 10\n",
    "\n",
    "n: 2\n",
    "\n",
    "\n",
    "\n",
    "Sample Output:\n",
    "\n",
    "100"
   ]
  },
  {
   "cell_type": "code",
   "execution_count": 24,
   "id": "a2a966e2",
   "metadata": {},
   "outputs": [
    {
     "name": "stdout",
     "output_type": "stream",
     "text": [
      "3\n",
      "4\n",
      "81\n"
     ]
    }
   ],
   "source": [
    "class Assignment:\n",
    "    @classmethod\n",
    "    def power(cls, x, n):\n",
    "        '''when x == 0 or 1 or n == 1 power function should return x itslf'''\n",
    "        if x == 0 or x == 1 or n == 1:\n",
    "            return x \n",
    "        \n",
    "        '''when x == -1 and n is even the result should be positive 1 else -1'''\n",
    "        if x == -1:\n",
    "            if n % 2 == 0:\n",
    "                return 1\n",
    "            else:\n",
    "                return -1\n",
    "\n",
    "        '''when n is 0 result is always 1'''\n",
    "\n",
    "        if n == 0:\n",
    "            return 1\n",
    "\n",
    "        '''when n is negative the result is reciprocal and using recurssion'''  \n",
    "        if n < 0:\n",
    "            return 1/cls.power(x, -n)\n",
    "        \n",
    "        val = cls.power(x, n//2)\n",
    "\n",
    "        if n%2 == 0:\n",
    "            return val*val\n",
    "        else:\n",
    "            return val*val*x\n",
    "\n",
    "\n",
    "result = Assignment().power(int(input()),int(input()));\n",
    "print(result)"
   ]
  }
 ],
 "metadata": {
  "kernelspec": {
   "display_name": "Python 3 (ipykernel)",
   "language": "python",
   "name": "python3"
  },
  "language_info": {
   "codemirror_mode": {
    "name": "ipython",
    "version": 3
   },
   "file_extension": ".py",
   "mimetype": "text/x-python",
   "name": "python",
   "nbconvert_exporter": "python",
   "pygments_lexer": "ipython3",
   "version": "3.9.7"
  }
 },
 "nbformat": 4,
 "nbformat_minor": 5
}
